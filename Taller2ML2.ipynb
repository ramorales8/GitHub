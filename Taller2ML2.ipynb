{
 "cells": [
  {
   "cell_type": "code",
   "execution_count": 1,
   "metadata": {},
   "outputs": [],
   "source": [
    "import pandas as pd\n",
    "import numpy as np\n",
    "from matplotlib import pyplot as plt\n",
    "from IPython.display import display, HTML"
   ]
  },
  {
   "cell_type": "code",
   "execution_count": 2,
   "metadata": {},
   "outputs": [
    {
     "data": {
      "text/html": [
       "<table border=\"1\" class=\"dataframe\">\n",
       "  <thead>\n",
       "    <tr style=\"text-align: right;\">\n",
       "      <th></th>\n",
       "      <th>Unnamed: 0</th>\n",
       "      <th>X</th>\n",
       "      <th>y</th>\n",
       "    </tr>\n",
       "  </thead>\n",
       "  <tbody>\n",
       "    <tr>\n",
       "      <th>count</th>\n",
       "      <td>4000.000000</td>\n",
       "      <td>4000.000000</td>\n",
       "      <td>4000.000000</td>\n",
       "    </tr>\n",
       "    <tr>\n",
       "      <th>mean</th>\n",
       "      <td>1999.500000</td>\n",
       "      <td>-0.005000</td>\n",
       "      <td>30.852884</td>\n",
       "    </tr>\n",
       "    <tr>\n",
       "      <th>std</th>\n",
       "      <td>1154.844867</td>\n",
       "      <td>11.548449</td>\n",
       "      <td>32.525128</td>\n",
       "    </tr>\n",
       "    <tr>\n",
       "      <th>min</th>\n",
       "      <td>0.000000</td>\n",
       "      <td>-20.000000</td>\n",
       "      <td>-150.000000</td>\n",
       "    </tr>\n",
       "    <tr>\n",
       "      <th>25%</th>\n",
       "      <td>999.750000</td>\n",
       "      <td>-10.002500</td>\n",
       "      <td>11.520831</td>\n",
       "    </tr>\n",
       "    <tr>\n",
       "      <th>50%</th>\n",
       "      <td>1999.500000</td>\n",
       "      <td>-0.005000</td>\n",
       "      <td>31.300053</td>\n",
       "    </tr>\n",
       "    <tr>\n",
       "      <th>75%</th>\n",
       "      <td>2999.250000</td>\n",
       "      <td>9.992500</td>\n",
       "      <td>52.339514</td>\n",
       "    </tr>\n",
       "    <tr>\n",
       "      <th>max</th>\n",
       "      <td>3999.000000</td>\n",
       "      <td>19.990000</td>\n",
       "      <td>128.782166</td>\n",
       "    </tr>\n",
       "  </tbody>\n",
       "</table>"
      ],
      "text/plain": [
       "<IPython.core.display.HTML object>"
      ]
     },
     "metadata": {},
     "output_type": "display_data"
    },
    {
     "data": {
      "text/plain": [
       "<matplotlib.axes._subplots.AxesSubplot at 0x1118f4128>"
      ]
     },
     "execution_count": 2,
     "metadata": {},
     "output_type": "execute_result"
    },
    {
     "data": {
      "image/png": "[encoded data removed]",
      "text/plain": [
       "<Figure size 432x288 with 1 Axes>"
      ]
     },
     "metadata": {},
     "output_type": "display_data"
    },
    {
     "data": {
      "image/png": "[encoded data removed]",
      "text/plain": [
       "<Figure size 432x288 with 1 Axes>"
      ]
     },
     "metadata": {},
     "output_type": "display_data"
    }
   ],
   "source": [
    "# Analisis preliminar de datos\n",
    "\n",
    "df=pd.read_csv('laboratorio_aguas.csv')\n",
    "\n",
    "display(HTML(df.describe().to_html()))\n",
    "df[['X','y']].plot.box()\n",
    "df.plot.scatter(x='X',y='y')\n",
    "\n",
    "#plt.savefig('scatter.pdf',format='pdf')"
   ]
  },
  {
   "cell_type": "code",
   "execution_count": 3,
   "metadata": {},
   "outputs": [
    {
     "name": "stderr",
     "output_type": "stream",
     "text": [
      "/Users/ronaldmorales/anaconda3/lib/python3.6/site-packages/ipykernel_launcher.py:4: FutureWarning: Method .as_matrix will be removed in a future version. Use .values instead.\n",
      "  after removing the cwd from sys.path.\n",
      "/Users/ronaldmorales/anaconda3/lib/python3.6/site-packages/ipykernel_launcher.py:5: FutureWarning: Method .as_matrix will be removed in a future version. Use .values instead.\n",
      "  \"\"\"\n"
     ]
    }
   ],
   "source": [
    "from sklearn import linear_model\n",
    "from sklearn.model_selection import train_test_split\n",
    "# split training and text data\n",
    "X=df.as_matrix(['X'])\n",
    "y=df.as_matrix(['y'])\n",
    "\n",
    "X_train, X_test, y_train, y_test = train_test_split(X, y, test_size=0.20, random_state=4200)\n",
    "\n"
   ]
  },
  {
   "cell_type": "code",
   "execution_count": 4,
   "metadata": {},
   "outputs": [
    {
     "name": "stdout",
     "output_type": "stream",
     "text": [
      "Coefficients: \n",
      " [[1.84952696]]\n",
      "Intercept:  [30.99856303]\n"
     ]
    }
   ],
   "source": [
    " #Create linear regression object\n",
    "regr = linear_model.LinearRegression()\n",
    "#testing other linear alorithms\n",
    "# regr=linear_model.Ridge(alpha=.1)\n",
    "\n",
    "# Train the model using the training sets\n",
    "regr.fit(X_train, y_train)\n",
    "\n",
    "# The coefficients\n",
    "print('Coefficients: \\n', regr.coef_)\n",
    "print('Intercept: ', regr.intercept_)"
   ]
  },
  {
   "cell_type": "code",
   "execution_count": 5,
   "metadata": {},
   "outputs": [
    {
     "name": "stdout",
     "output_type": "stream",
     "text": [
      "regressor score                |      0.41\n",
      "Mean squared error             |    533.05\n",
      "mean_squared_error             |    533.05\n",
      "mean_absolute_error            |     16.05\n",
      "median_absolute_error          |     12.52\n",
      "explained_variance_score       |      0.41\n",
      "r ^ 2 score                    |      0.41\n"
     ]
    },
    {
     "data": {
      "image/png": "[encoded data removed]",
      "text/plain": [
       "<Figure size 432x288 with 1 Axes>"
      ]
     },
     "metadata": {},
     "output_type": "display_data"
    }
   ],
   "source": [
    "from sklearn.metrics import accuracy_score,median_absolute_error\n",
    "from sklearn.metrics import mean_squared_error, mean_absolute_error\n",
    "from sklearn.metrics import r2_score,mean_squared_log_error,explained_variance_score\n",
    "\n",
    "\n",
    "def test_model(X_test,y_test,regr):\n",
    "  #prediction\n",
    "  y_pred=regr.predict(X_test)\n",
    "  ##graficas\n",
    "\n",
    "  plt.scatter(X_test, y_test,  color='black')\n",
    "  plt.plot(X_test, regr.predict(X_test), color='blue',linewidth=3)\n",
    "  plt.xlabel('input')\n",
    "  plt.ylabel('output')\n",
    "\n",
    "\n",
    "  # https://scikit-learn.org/stable/modules/model_evaluation.html#regression-metrics\n",
    "  print('{0:30} | {1:9.2f}'.format('regressor score', regr.score(X_test,y_test)))\n",
    "  print('{0:30} | {1:9.2f}'.format('Mean squared error', np.mean((y_pred - y_test) ** 2)))\n",
    "  print('{0:30} | {1:9.2f}'.format('mean_squared_error', mean_squared_error(y_test,y_pred)))\n",
    "  #print('{0:30} | {1:9.2f}'.format('mean_squared_log_error', mean_squared_log_error(y_test,y_pred)))\n",
    "  print('{0:30} | {1:9.2f}'.format('mean_absolute_error', mean_absolute_error(y_test,y_pred)))\n",
    "  print('{0:30} | {1:9.2f}'.format('median_absolute_error', median_absolute_error(y_test,y_pred)))\n",
    "  print('{0:30} | {1:9.2f}'.format('explained_variance_score', explained_variance_score(y_test,y_pred)))\n",
    "  print('{0:30} | {1:9.2f}'.format('r ^ 2 score', r2_score(y_test,y_pred)))\n",
    "    \n",
    "test_model (X_test, y_test, regr)\n",
    "\n"
   ]
  },
  {
   "cell_type": "code",
   "execution_count": 8,
   "metadata": {},
   "outputs": [],
   "source": [
    "#saving the model (just one time after training)\n",
    "import pickle #for save the model\n",
    "\n",
    "name_file='lineardiabetes.pkl'\n",
    "myfile = open(name_file, 'wb')\n",
    "pickle.dump(regr,myfile)\n",
    "myfile.close()\n",
    "\n"
   ]
  },
  {
   "cell_type": "code",
   "execution_count": 9,
   "metadata": {},
   "outputs": [],
   "source": [
    "import pickle #for save the model\n",
    "def conversor(x,model_file):\n",
    "  # load the model with the trained model \n",
    "  ## example, this function can be a web server in django \n",
    "  new_file = open(model_file, 'rb')\n",
    "  clf2 = pickle.load(new_file)\n",
    "  return clf2.predict(x)\n",
    "\n",
    "\n",
    "# after this point a lot of data engineering would be required..."
   ]
  },
  {
   "cell_type": "code",
   "execution_count": 10,
   "metadata": {},
   "outputs": [
    {
     "name": "stdout",
     "output_type": "stream",
     "text": [
      "--------------------------------------\n",
      "model lineal               | score r2                  \n",
      "mean                   0.42| std   0.06                  \n",
      "Accuracy(95.7%):                    0.42 (+/- 0.12)\n",
      "--------------------------------------\n",
      "model ridge 0.7            | score r2                  \n",
      "mean                   0.42| std   0.06                  \n",
      "Accuracy(95.7%):                    0.42 (+/- 0.12)\n",
      "--------------------------------------\n",
      "model MLP                  | score r2                  \n",
      "mean                   0.41| std   0.06                  \n",
      "Accuracy(95.7%):                    0.41 (+/- 0.12)\n",
      "--------------------------------------\n",
      "model RANSAC               | score r2                  \n",
      "mean                   0.39| std   0.07                  \n",
      "Accuracy(95.7%):                    0.39 (+/- 0.14)\n"
     ]
    }
   ],
   "source": [
    "from sklearn.neural_network import MLPRegressor\n",
    "from sklearn.model_selection import cross_val_score\n",
    "\n",
    "\n",
    "regressors = [linear_model.LinearRegression(),linear_model.Ridge(alpha=.7),MLPRegressor(hidden_layer_sizes=(22,100,),activation='relu',max_iter=100000),linear_model.RANSACRegressor(random_state=0)]\n",
    "names = ['lineal','ridge 0.7','MLP','RANSAC']\n",
    "#from https://scikit-learn.org/stable/modules/model_evaluation.html#scoring-parameter\n",
    "scoring =['explained_variance',\n",
    "          'neg_mean_absolute_error',\n",
    "          'neg_mean_squared_error',\n",
    "          'neg_mean_squared_log_error',\n",
    "          'neg_median_absolute_error',\n",
    "          'r2']\n",
    "\n",
    "\n",
    "\n",
    "for reg,name in zip(regressors,names):\n",
    "    scores = cross_val_score(reg, X_train, y_train.ravel(), scoring=scoring[5],\n",
    "                            cv=5)\n",
    "    print('--------------------------------------')\n",
    "    print('model {0:20} | score {1:20}'.format(name,scoring[5]))\n",
    "    print('mean {0:22.2f}| std   {1:<22.2f}'.format(scores.mean(),scores.std()))\n",
    "    print(\"Accuracy(95.7%): {0:23.2f} (+/- {1:.2f})\" .format(scores.mean(), scores.std() * 2))"
   ]
  },
  {
   "cell_type": "code",
   "execution_count": 11,
   "metadata": {},
   "outputs": [
    {
     "name": "stdout",
     "output_type": "stream",
     "text": [
      "regressor score                |      0.42\n",
      "Mean squared error             |   1344.38\n",
      "mean_squared_error             |    531.30\n",
      "mean_absolute_error            |     16.00\n",
      "median_absolute_error          |     12.36\n",
      "explained_variance_score       |      0.42\n",
      "r ^ 2 score                    |      0.42\n"
     ]
    },
    {
     "data": {
      "image/png": "[encoded data removed]",
      "text/plain": [
       "<Figure size 432x288 with 1 Axes>"
      ]
     },
     "metadata": {},
     "output_type": "display_data"
    }
   ],
   "source": [
    "#after this point repeat test and implementation process whith the best model.\n",
    "model=regressors[2].fit(X_train,y_train.ravel())\n",
    "test_model(X_test,y_test,model)"
   ]
  },
  {
   "cell_type": "code",
   "execution_count": 12,
   "metadata": {},
   "outputs": [
    {
     "name": "stdout",
     "output_type": "stream",
     "text": [
      "Automatically created module for IPython interactive environment\n"
     ]
    },
    {
     "data": {
      "text/html": [
       "<table border=\"1\" class=\"dataframe\">\n",
       "  <thead>\n",
       "    <tr style=\"text-align: right;\">\n",
       "      <th></th>\n",
       "      <th>AGE</th>\n",
       "      <th>SEX</th>\n",
       "      <th>BMI</th>\n",
       "      <th>BP</th>\n",
       "      <th>S1</th>\n",
       "      <th>S2</th>\n",
       "      <th>S3</th>\n",
       "      <th>S4</th>\n",
       "      <th>S5</th>\n",
       "      <th>S6</th>\n",
       "      <th>Y</th>\n",
       "    </tr>\n",
       "  </thead>\n",
       "  <tbody>\n",
       "    <tr>\n",
       "      <th>count</th>\n",
       "      <td>442.000000</td>\n",
       "      <td>442.000000</td>\n",
       "      <td>442.000000</td>\n",
       "      <td>442.000000</td>\n",
       "      <td>442.000000</td>\n",
       "      <td>442.000000</td>\n",
       "      <td>442.000000</td>\n",
       "      <td>442.000000</td>\n",
       "      <td>442.000000</td>\n",
       "      <td>442.000000</td>\n",
       "      <td>442.000000</td>\n",
       "    </tr>\n",
       "    <tr>\n",
       "      <th>mean</th>\n",
       "      <td>48.518100</td>\n",
       "      <td>1.468326</td>\n",
       "      <td>26.375792</td>\n",
       "      <td>94.647014</td>\n",
       "      <td>189.140271</td>\n",
       "      <td>115.439140</td>\n",
       "      <td>49.788462</td>\n",
       "      <td>4.070249</td>\n",
       "      <td>4.641411</td>\n",
       "      <td>91.260181</td>\n",
       "      <td>152.133484</td>\n",
       "    </tr>\n",
       "    <tr>\n",
       "      <th>std</th>\n",
       "      <td>13.109028</td>\n",
       "      <td>0.499561</td>\n",
       "      <td>4.418122</td>\n",
       "      <td>13.831283</td>\n",
       "      <td>34.608052</td>\n",
       "      <td>30.413081</td>\n",
       "      <td>12.934202</td>\n",
       "      <td>1.290450</td>\n",
       "      <td>0.522391</td>\n",
       "      <td>11.496335</td>\n",
       "      <td>77.093005</td>\n",
       "    </tr>\n",
       "    <tr>\n",
       "      <th>min</th>\n",
       "      <td>19.000000</td>\n",
       "      <td>1.000000</td>\n",
       "      <td>18.000000</td>\n",
       "      <td>62.000000</td>\n",
       "      <td>97.000000</td>\n",
       "      <td>41.600000</td>\n",
       "      <td>22.000000</td>\n",
       "      <td>2.000000</td>\n",
       "      <td>3.258100</td>\n",
       "      <td>58.000000</td>\n",
       "      <td>25.000000</td>\n",
       "    </tr>\n",
       "    <tr>\n",
       "      <th>25%</th>\n",
       "      <td>38.250000</td>\n",
       "      <td>1.000000</td>\n",
       "      <td>23.200000</td>\n",
       "      <td>84.000000</td>\n",
       "      <td>164.250000</td>\n",
       "      <td>96.050000</td>\n",
       "      <td>40.250000</td>\n",
       "      <td>3.000000</td>\n",
       "      <td>4.276700</td>\n",
       "      <td>83.250000</td>\n",
       "      <td>87.000000</td>\n",
       "    </tr>\n",
       "    <tr>\n",
       "      <th>50%</th>\n",
       "      <td>50.000000</td>\n",
       "      <td>1.000000</td>\n",
       "      <td>25.700000</td>\n",
       "      <td>93.000000</td>\n",
       "      <td>186.000000</td>\n",
       "      <td>113.000000</td>\n",
       "      <td>48.000000</td>\n",
       "      <td>4.000000</td>\n",
       "      <td>4.620050</td>\n",
       "      <td>91.000000</td>\n",
       "      <td>140.500000</td>\n",
       "    </tr>\n",
       "    <tr>\n",
       "      <th>75%</th>\n",
       "      <td>59.000000</td>\n",
       "      <td>2.000000</td>\n",
       "      <td>29.275000</td>\n",
       "      <td>105.000000</td>\n",
       "      <td>209.750000</td>\n",
       "      <td>134.500000</td>\n",
       "      <td>57.750000</td>\n",
       "      <td>5.000000</td>\n",
       "      <td>4.997200</td>\n",
       "      <td>98.000000</td>\n",
       "      <td>211.500000</td>\n",
       "    </tr>\n",
       "    <tr>\n",
       "      <th>max</th>\n",
       "      <td>79.000000</td>\n",
       "      <td>2.000000</td>\n",
       "      <td>42.200000</td>\n",
       "      <td>133.000000</td>\n",
       "      <td>301.000000</td>\n",
       "      <td>242.400000</td>\n",
       "      <td>99.000000</td>\n",
       "      <td>9.090000</td>\n",
       "      <td>6.107000</td>\n",
       "      <td>124.000000</td>\n",
       "      <td>346.000000</td>\n",
       "    </tr>\n",
       "  </tbody>\n",
       "</table>"
      ],
      "text/plain": [
       "<IPython.core.display.HTML object>"
      ]
     },
     "metadata": {},
     "output_type": "display_data"
    }
   ],
   "source": [
    "\n",
    "print(__doc__)\n",
    "\n",
    "\n",
    "# Code source: Jaques Grobler\n",
    "# License: BSD 3 clause\n",
    "\n",
    "import pandas\n",
    "import numpy as np\n",
    "from sklearn import datasets, linear_model\n",
    "\n",
    "# Load the diabetes dataset\n",
    "#diabetes = datasets.load_diabetes()\n",
    "#diabetes['feature_names'].append('Y')\n",
    "#data=pandas.DataFrame(data= np.c_[diabetes['data'], diabetes['target']],columns= diabetes['feature_names'])\n",
    "#descripcion=data.describe()\n",
    "#print(descripcion)\n",
    "\n",
    "data = pandas.read_csv('diabetes.data.txt',sep='\\t')\n",
    "descripcion=data.describe()\n",
    "display(HTML(data.describe().to_html()))"
   ]
  },
  {
   "cell_type": "code",
   "execution_count": 43,
   "metadata": {},
   "outputs": [
    {
     "name": "stderr",
     "output_type": "stream",
     "text": [
      "/Users/ronaldmorales/anaconda3/lib/python3.6/site-packages/ipykernel_launcher.py:14: FutureWarning: Method .as_matrix will be removed in a future version. Use .values instead.\n",
      "  \n"
     ]
    }
   ],
   "source": [
    "'''\n",
    "BMI\n",
    "'''\n",
    "%matplotlib inline\n",
    "import pickle #for save the model\n",
    "from matplotlib import pyplot as plt\n",
    "\n",
    "from sklearn.metrics import mean_squared_error, r2_score\n",
    "#from sklearn.cross_validation import train_test_split\n",
    "# de acuerdo a la version scikit train_test_split puede ser\n",
    "from sklearn.model_selection import train_test_split ,cross_val_score\n",
    "\n",
    "\n",
    "diabetes_X = data.as_matrix(['BMI'])\n",
    "diabetes_Y =data['Y']\n",
    "\n",
    "def process (dtX,dtY,testSize=0.30,graph=True):\n",
    "    \n",
    "    x_train,x_test,y_train,y_test = train_test_split(dtX,dtY,test_size=testSize,random_state=5000)\n",
    "    \n",
    "    mreg = linear_model.LinearRegression()\n",
    "\n",
    "    mreg.fit(x_train,y_train)"
   ]
  },
  {
   "cell_type": "code",
   "execution_count": 44,
   "metadata": {},
   "outputs": [
    {
     "ename": "NameError",
     "evalue": "name 'x_train' is not defined",
     "output_type": "error",
     "traceback": [
      "\u001b[0;31m---------------------------------------------------------------------------\u001b[0m",
      "\u001b[0;31mNameError\u001b[0m                                 Traceback (most recent call last)",
      "\u001b[0;32m<ipython-input-44-c9b84aa4e93e>\u001b[0m in \u001b[0;36m<module>\u001b[0;34m()\u001b[0m\n\u001b[1;32m      1\u001b[0m \u001b[0;31m#train\u001b[0m\u001b[0;34m\u001b[0m\u001b[0;34m\u001b[0m\u001b[0;34m\u001b[0m\u001b[0m\n\u001b[1;32m      2\u001b[0m \u001b[0;34m\u001b[0m\u001b[0m\n\u001b[0;32m----> 3\u001b[0;31m \u001b[0mmreg\u001b[0m\u001b[0;34m.\u001b[0m\u001b[0mfit\u001b[0m\u001b[0;34m(\u001b[0m\u001b[0mx_train\u001b[0m\u001b[0;34m,\u001b[0m\u001b[0my_train\u001b[0m\u001b[0;34m)\u001b[0m\u001b[0;34m\u001b[0m\u001b[0;34m\u001b[0m\u001b[0m\n\u001b[0m\u001b[1;32m      4\u001b[0m \u001b[0;34m\u001b[0m\u001b[0m\n\u001b[1;32m      5\u001b[0m \u001b[0mcoef\u001b[0m \u001b[0;34m=\u001b[0m \u001b[0mmreg\u001b[0m\u001b[0;34m.\u001b[0m\u001b[0mcoef_\u001b[0m\u001b[0;34m\u001b[0m\u001b[0;34m\u001b[0m\u001b[0m\n",
      "\u001b[0;31mNameError\u001b[0m: name 'x_train' is not defined"
     ]
    }
   ],
   "source": [
    "#train\n",
    "\n",
    "mreg.fit(x_train,y_train)\n",
    "\n",
    "coef = mreg.coef_\n",
    "inter = mreg.intercept_\n",
    "print ('Coeficiente',coef)\n",
    "print ('Intercepto',inter)\n",
    "\n",
    "y_pred = mreg.predcit(x_test)\n",
    "\n",
    "print (\"Mean squared error: %.2f\" % mean_squared_error(y_test,y_pred))\n",
    "print (\"r^2: %2f\" % r2_score(y_test,y_pred))\n",
    "\n",
    "scoring = ['neg_mean_squared_error','r2']\n",
    "scores = cross_val_score(mreg,x_train,y_train,scoring=scoring[1],cv=5)\n",
    "print (\"r^2 k-fold=5: \",scores)\n",
    "maxr2 = scores.max()\n",
    "print (\"r^2 best: %2.f\" % maxr2)\n",
    "\n",
    "if grafica == True:\n",
    "    plt.scatter(x_test, y_test, color='black')\n",
    "    plt.plot(x_test,y_pred, color='blue', linewidth=3)\n",
    "    plt.show()\n",
    "    \n",
    "    plt.scatter(x_train,y_train, color='black')\n",
    "    plt.plot(x_test,y_pred, color='red', linewidth=3)\n",
    "    plt.show()\n",
    "    \n",
    "return maxr2\n",
    "\n",
    "print('\\nModelo para BMI')\n",
    "process(diabetes_X,diabetes_Y,0.30)\n",
    "\n",
    "\n"
   ]
  },
  {
   "cell_type": "code",
   "execution_count": null,
   "metadata": {},
   "outputs": [],
   "source": []
  }
 ],
 "metadata": {
  "kernelspec": {
   "display_name": "Python 3",
   "language": "python",
   "name": "python3"
  },
  "language_info": {
   "codemirror_mode": {
    "name": "ipython",
    "version": 3
   },
   "file_extension": ".py",
   "mimetype": "text/x-python",
   "name": "python",
   "nbconvert_exporter": "python",
   "pygments_lexer": "ipython3",
   "version": "3.6.8"
  }
 },
 "nbformat": 4,
 "nbformat_minor": 2
}
